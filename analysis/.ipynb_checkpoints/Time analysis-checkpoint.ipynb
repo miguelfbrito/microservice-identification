{
 "cells": [
  {
   "cell_type": "code",
   "execution_count": 56,
   "metadata": {},
   "outputs": [
    {
     "data": {
      "text/html": [
       "<div>\n",
       "<style scoped>\n",
       "    .dataframe tbody tr th:only-of-type {\n",
       "        vertical-align: middle;\n",
       "    }\n",
       "\n",
       "    .dataframe tbody tr th {\n",
       "        vertical-align: top;\n",
       "    }\n",
       "\n",
       "    .dataframe thead th {\n",
       "        text-align: right;\n",
       "    }\n",
       "</style>\n",
       "<table border=\"1\" class=\"dataframe\">\n",
       "  <thead>\n",
       "    <tr style=\"text-align: right;\">\n",
       "      <th></th>\n",
       "      <th>name</th>\n",
       "      <th>classes</th>\n",
       "      <th>controllers</th>\n",
       "      <th>time</th>\n",
       "    </tr>\n",
       "  </thead>\n",
       "  <tbody>\n",
       "    <tr>\n",
       "      <th>210</th>\n",
       "      <td>cybybchen/nfsmw</td>\n",
       "      <td>574</td>\n",
       "      <td>23</td>\n",
       "      <td>4622.381714</td>\n",
       "    </tr>\n",
       "  </tbody>\n",
       "</table>\n",
       "</div>"
      ],
      "text/plain": [
       "                name  classes  controllers         time\n",
       "210  cybybchen/nfsmw      574           23  4622.381714"
      ]
     },
     "execution_count": 56,
     "metadata": {},
     "output_type": "execute_result"
    },
    {
     "data": {
      "image/png": "[encoded data removed]",
      "text/plain": [
       "<Figure size 432x288 with 1 Axes>"
      ]
     },
     "metadata": {
      "needs_background": "light"
     },
     "output_type": "display_data"
    }
   ],
   "source": [
    "import pandas as pd\n",
    "import matplotlib.pyplot as plt\n",
    "\n",
    "def get_df_in_range(df, col, min, max):\n",
    "    return df[(df[col] > min) & (df[col] <= max)].sort_values(col, ascending=False)\n",
    "\n",
    "dfbp = pd.DataFrame()\n",
    "df = pd.read_csv('./time_output')\n",
    "\n",
    "# Remove one huge outlier going for 4000 seconds (ruins the boxplot visualisation)\n",
    "df = get_df_in_range(df, 'time', 0, 4000)\n",
    "\n",
    "df1 = get_df_in_range(df, 'classes', 0, 500)\n",
    "df2 = get_df_in_range(df, 'classes', 500, 1000)\n",
    "df3 = get_df_in_range(df, 'classes', 1000, 10000)\n",
    "\n",
    "dfbp = pd.concat([dfbp, df1['time'], df2['time'], df3['time']], ignore_index=True, axis=1)\n",
    "dfbp.columns = ['30+', '500+', '1000+']\n",
    "bp = dfbp.boxplot()\n",
    "bp.set_xlabel('Number of classes')\n",
    "bp.set_ylabel('Execution time (seconds)')\n",
    "plt.savefig('./time_analysis.png')\n"
   ]
  },
  {
   "cell_type": "code",
   "execution_count": null,
   "metadata": {},
   "outputs": [],
   "source": []
  }
 ],
 "metadata": {
  "kernelspec": {
   "display_name": "Python 3.7.5 64-bit",
   "language": "python",
   "name": "python37564bit1ad0b080370d429480eff04d10e35c45"
  },
  "language_info": {
   "codemirror_mode": {
    "name": "ipython",
    "version": 3
   },
   "file_extension": ".py",
   "mimetype": "text/x-python",
   "name": "python",
   "nbconvert_exporter": "python",
   "pygments_lexer": "ipython3",
   "version": "3.7.5"
  }
 },
 "nbformat": 4,
 "nbformat_minor": 4
}
